{
  "nbformat": 4,
  "nbformat_minor": 0,
  "metadata": {
    "colab": {
      "provenance": [],
      "authorship_tag": "ABX9TyPfXUjLzz9cPYyrnq5NNXE3",
      "include_colab_link": true
    },
    "kernelspec": {
      "name": "python3",
      "display_name": "Python 3"
    },
    "language_info": {
      "name": "python"
    }
  },
  "cells": [
    {
      "cell_type": "markdown",
      "metadata": {
        "id": "view-in-github",
        "colab_type": "text"
      },
      "source": [
        "<a href=\"https://colab.research.google.com/github/yahyae07/RM_IN_FL/blob/main/DataGenerating_Raspberry_Pi_2.ipynb\" target=\"_parent\"><img src=\"https://colab.research.google.com/assets/colab-badge.svg\" alt=\"Open In Colab\"/></a>"
      ]
    },
    {
      "cell_type": "code",
      "source": [
        "import random\n",
        "import csv"
      ],
      "metadata": {
        "id": "LFYOhkq2OSor"
      },
      "execution_count": 1,
      "outputs": []
    },
    {
      "cell_type": "code",
      "source": [
        "def dataRows(minutes, weeks):\n",
        "    return weeks * 7 * 24 * 60 / minutes"
      ],
      "metadata": {
        "id": "fk1Fy6pkOSE2"
      },
      "execution_count": 2,
      "outputs": []
    },
    {
      "cell_type": "code",
      "execution_count": 3,
      "metadata": {
        "id": "F0LwtUSdOJvC"
      },
      "outputs": [],
      "source": [
        "def dataGeneratingRaspberryPi2():\n",
        "    global cpu_usage\n",
        "    global memory_usage\n",
        "    global gpu_usage\n",
        "    global temperature\n",
        "    global cpu_frequency\n",
        "    global gpu_frequency\n",
        "    cpu_usage = random.uniform(0, 100)\n",
        "    memory_usage = random.uniform(0, 100)\n",
        "    gpu_usage = random.uniform(0, 100)\n",
        "    if cpu_usage > 80 or memory_usage > 80 or gpu_usage > 80:\n",
        "        temperature = random.uniform(75, 85)\n",
        "    elif cpu_usage > 60 or memory_usage > 60 or gpu_usage > 60:\n",
        "        temperature = random.uniform(65, 75)\n",
        "    elif cpu_usage > 40 or memory_usage > 40 or gpu_usage > 40:\n",
        "        temperature = random.uniform(55, 65)\n",
        "    elif cpu_usage > 20 or memory_usage > 20 or gpu_usage > 20:\n",
        "        temperature = random.uniform(45, 55)\n",
        "    else:\n",
        "        temperature = random.uniform(35, 45)\n",
        "\n",
        "# Base cpu frequency is 600, hence the equation is 600 + (cpu_usage * (300/100)), 300 is the maximum cpu frequency difference (900 - 600), over 100 to get the no. of MHz for every 1%\n",
        "    cpu_frequency = 600 + (cpu_usage * 3)\n",
        "# Base gpu frequency is 0, hence the equation is 0 + (gpu_usage * (400/100)), 400 is the maximum gpu frequency difference (400 - 0), over 100 to get the no. of MHz for every 1%\n",
        "    gpu_frequency = 0 + (gpu_usage * 4)"
      ]
    },
    {
      "cell_type": "code",
      "source": [
        "i = 0\n",
        "# data = [[\"cpu usage\", \"memory usage\", \"gpu usage\", \"temperature\", \"cpu frequency\", \"gpu frequency\"]]\n",
        "dataPi2 = [[\"cpu usage\", \"memory usage\", \"gpu usage\", \"cpu frequency\", \"gpu frequency\", \"temperature\"]]\n",
        "while i < dataRows(1, 6):\n",
        "    dataGeneratingRaspberryPi2()\n",
        "    dataPi2.append([cpu_usage, memory_usage, gpu_usage, cpu_frequency, gpu_frequency, temperature])\n",
        "    i = i + 1\n",
        "\n",
        "# Open the CSV file for writing\n",
        "with open('dataPi2_C2.csv', 'a', newline='') as csvfile:\n",
        "    # Create a CSV writer object\n",
        "    csvwriter = csv.writer(csvfile)\n",
        "\n",
        "    # Write the dataPi2 to the CSV file\n",
        "    csvwriter.writerows(dataPi2)"
      ],
      "metadata": {
        "id": "PE8Rd2tAOQ3I"
      },
      "execution_count": 5,
      "outputs": []
    }
  ]
}