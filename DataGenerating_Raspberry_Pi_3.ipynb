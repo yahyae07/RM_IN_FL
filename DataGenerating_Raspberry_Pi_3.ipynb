{
  "nbformat": 4,
  "nbformat_minor": 0,
  "metadata": {
    "colab": {
      "provenance": [],
      "authorship_tag": "ABX9TyPQd0X4W/eFUASkUnFczAcF",
      "include_colab_link": true
    },
    "kernelspec": {
      "name": "python3",
      "display_name": "Python 3"
    },
    "language_info": {
      "name": "python"
    }
  },
  "cells": [
    {
      "cell_type": "markdown",
      "metadata": {
        "id": "view-in-github",
        "colab_type": "text"
      },
      "source": [
        "<a href=\"https://colab.research.google.com/github/yahyae07/RM_IN_FL/blob/main/DataGenerating_Raspberry_Pi_3.ipynb\" target=\"_parent\"><img src=\"https://colab.research.google.com/assets/colab-badge.svg\" alt=\"Open In Colab\"/></a>"
      ]
    },
    {
      "cell_type": "code",
      "execution_count": null,
      "metadata": {
        "id": "-KQJDVblIE0R"
      },
      "outputs": [],
      "source": [
        "import random\n",
        "import csv"
      ]
    },
    {
      "cell_type": "code",
      "source": [
        "def dataRows(minutes, weeks):\n",
        "    return weeks * 7 * 24 * 60 / minutes"
      ],
      "metadata": {
        "id": "tID3D-xPIMA6"
      },
      "execution_count": null,
      "outputs": []
    },
    {
      "cell_type": "code",
      "source": [
        "def dataGeneratingPi3():\n",
        "    global cpu_usage\n",
        "    global memory_usage\n",
        "    global gpu_usage\n",
        "    global temperature\n",
        "    global cpu_frequency\n",
        "    global gpu_frequency\n",
        "    cpu_usage = random.uniform(0, 100)\n",
        "    memory_usage = random.uniform(0, 100)\n",
        "    gpu_usage = random.uniform(0, 100)\n",
        "    if cpu_usage > 80 or memory_usage > 80 or gpu_usage > 80:\n",
        "        temperature = random.uniform(75, 85)\n",
        "    elif cpu_usage > 60 or memory_usage > 60 or gpu_usage > 60:\n",
        "        temperature = random.uniform(65, 75)\n",
        "    elif cpu_usage > 40 or memory_usage > 40 or gpu_usage > 40:\n",
        "        temperature = random.uniform(55, 65)\n",
        "    elif cpu_usage > 20 or memory_usage > 20 or gpu_usage > 20:\n",
        "        temperature = random.uniform(45, 55)\n",
        "    else:\n",
        "        temperature = random.uniform(35, 45)\n",
        "\n",
        "# Base cpu frequency is 600, hence the equation is 600 + (cpu_usage * (600/100)), 600 is the maximum cpu frequency difference (1200 - 600), over 100 to get the no. of MHz for every 1%\n",
        "    cpu_frequency = 600 + (cpu_usage * 6)\n",
        "# Base gpu frequency is 0, hence the equation is 0 + (gpu_usage * (400/100)), 400 is the maximum gpu frequency difference (400 - 0), over 100 to get the no. of MHz for every 1%\n",
        "    gpu_frequency = 0 + (gpu_usage * 4)"
      ],
      "metadata": {
        "id": "hzAluG1aIMxn"
      },
      "execution_count": null,
      "outputs": []
    },
    {
      "cell_type": "code",
      "source": [
        "i = 0\n",
        "# data = [[\"cpu usage\", \"memory usage\", \"gpu usage\", \"temperature\", \"cpu frequency\", \"gpu frequency\"]]\n",
        "dataPi3 = [[\"cpu usage\", \"memory usage\", \"gpu usage\", \"cpu frequency\", \"gpu frequency\", \"temperature\"]]\n",
        "while i < dataRows(1, 32):\n",
        "    dataGeneratingPi3()\n",
        "    dataPi3.append([cpu_usage, memory_usage, gpu_usage, cpu_frequency, gpu_frequency, temperature])\n",
        "    i = i + 1\n",
        "\n",
        "# Open the CSV file for writing\n",
        "with open('dataPi3.csv', 'a', newline='') as csvfile:\n",
        "    # Create a CSV writer object\n",
        "    csvwriter = csv.writer(csvfile)\n",
        "\n",
        "    # Write the dataPi3 to the CSV file\n",
        "    csvwriter.writerows(dataPi3)"
      ],
      "metadata": {
        "id": "4WlWGtusIRLA"
      },
      "execution_count": null,
      "outputs": []
    }
  ]
}