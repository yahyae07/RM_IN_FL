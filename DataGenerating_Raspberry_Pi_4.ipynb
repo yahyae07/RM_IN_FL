{
  "nbformat": 4,
  "nbformat_minor": 0,
  "metadata": {
    "colab": {
      "provenance": [],
      "authorship_tag": "ABX9TyOHSLGcJVOjeMEdSFsYy12y",
      "include_colab_link": true
    },
    "kernelspec": {
      "name": "python3",
      "display_name": "Python 3"
    },
    "language_info": {
      "name": "python"
    }
  },
  "cells": [
    {
      "cell_type": "markdown",
      "metadata": {
        "id": "view-in-github",
        "colab_type": "text"
      },
      "source": [
        "<a href=\"https://colab.research.google.com/github/yahyae07/RM_IN_FL/blob/main/DataGenerating_Raspberry_Pi_4.ipynb\" target=\"_parent\"><img src=\"https://colab.research.google.com/assets/colab-badge.svg\" alt=\"Open In Colab\"/></a>"
      ]
    },
    {
      "cell_type": "code",
      "execution_count": null,
      "metadata": {
        "id": "wce6lEUmG5GW"
      },
      "outputs": [],
      "source": [
        "import random\n",
        "import csv"
      ]
    },
    {
      "cell_type": "code",
      "source": [
        "def dataRows(minutes, weeks):\n",
        "    return weeks * 7 * 24 * 60 / minutes"
      ],
      "metadata": {
        "id": "9-4kEMw2G-dI"
      },
      "execution_count": null,
      "outputs": []
    },
    {
      "cell_type": "code",
      "source": [
        "def dataGeneratingPi4():\n",
        "    global cpu_usage\n",
        "    global memory_usage\n",
        "    global gpu_usage\n",
        "    global temperature\n",
        "    global cpu_frequency\n",
        "    global gpu_frequency\n",
        "    cpu_usage = random.uniform(0, 100)\n",
        "    memory_usage = random.uniform(0, 100)\n",
        "    gpu_usage = random.uniform(0, 100)\n",
        "    if cpu_usage > 80 or memory_usage > 80 or gpu_usage > 80:\n",
        "        temperature = random.uniform(75, 85)\n",
        "    elif cpu_usage > 60 or memory_usage > 60 or gpu_usage > 60:\n",
        "        temperature = random.uniform(65, 75)\n",
        "    elif cpu_usage > 40 or memory_usage > 40 or gpu_usage > 40:\n",
        "        temperature = random.uniform(55, 65)\n",
        "    elif cpu_usage > 20 or memory_usage > 20 or gpu_usage > 20:\n",
        "        temperature = random.uniform(45, 55)\n",
        "    else:\n",
        "        temperature = random.uniform(35, 45)\n",
        "\n",
        "# The base cpu frequency in the Raspberry Pi 4 is 600, hence the equation is 600 + (cpu_usage * (900/100)), 900 is the maximum cpu frequency difference (1500 - 600), over 100 to get the no. of MHz for every 1%\n",
        "    cpu_frequency = 600 + (cpu_usage * 9)\n",
        "# The base gpu frequency in the Raspberry Pi 4 is 0, hence the equation is 0 + (gpu_usage * (500/100)), 500 is the maximum gpu frequency difference (500 - 0), over 100 to get the no. of MHz for every 1%\n",
        "    gpu_frequency = 0 + (gpu_usage * 5)"
      ],
      "metadata": {
        "id": "TJ75buP5G_mY"
      },
      "execution_count": null,
      "outputs": []
    },
    {
      "cell_type": "code",
      "source": [
        "i = 0\n",
        "# data = [[\"cpu usage\", \"memory usage\", \"gpu usage\", \"temperature\", \"cpu frequency\", \"gpu frequency\"]]\n",
        "data = [[\"cpu usage\", \"memory usage\", \"gpu usage\", \"cpu frequency\", \"gpu frequency\", \"temperature\"]]\n",
        "while i < dataRows(1, 32):\n",
        "    dataGeneratingPi4()\n",
        "    data.append([cpu_usage, memory_usage, gpu_usage, cpu_frequency, gpu_frequency, temperature])\n",
        "    i = i + 1\n",
        "\n",
        "# Open the CSV file for writing\n",
        "with open('dataPi4.csv', 'a', newline='') as csvfile:\n",
        "    # Create a CSV writer object\n",
        "    csvwriter = csv.writer(csvfile)\n",
        "\n",
        "    # Write the data to the CSV file\n",
        "    csvwriter.writerows(data)"
      ],
      "metadata": {
        "id": "X64q-UMTHFWv"
      },
      "execution_count": null,
      "outputs": []
    }
  ]
}