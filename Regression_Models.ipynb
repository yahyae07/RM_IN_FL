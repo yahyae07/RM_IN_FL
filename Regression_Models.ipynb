{
  "nbformat": 4,
  "nbformat_minor": 0,
  "metadata": {
    "colab": {
      "provenance": [],
      "include_colab_link": true
    },
    "kernelspec": {
      "name": "python3",
      "display_name": "Python 3"
    },
    "language_info": {
      "name": "python"
    }
  },
  "cells": [
    {
      "cell_type": "markdown",
      "metadata": {
        "id": "view-in-github",
        "colab_type": "text"
      },
      "source": [
        "<a href=\"https://colab.research.google.com/github/yahyae07/RM_IN_FL/blob/main/Regression_Models.ipynb\" target=\"_parent\"><img src=\"https://colab.research.google.com/assets/colab-badge.svg\" alt=\"Open In Colab\"/></a>"
      ]
    },
    {
      "cell_type": "markdown",
      "source": [
        "# **Required libraries**"
      ],
      "metadata": {
        "id": "Be6E_6Od5Q6u"
      }
    },
    {
      "cell_type": "code",
      "source": [
        "import random\n",
        "import csv\n",
        "import pandas as pd\n",
        "from matplotlib import pyplot as plt\n",
        "from sklearn.ensemble import RandomForestRegressor\n",
        "from sklearn.linear_model import LinearRegression\n",
        "from sklearn.metrics import mean_squared_error, mean_absolute_error, r2_score\n",
        "from sklearn.model_selection import train_test_split\n",
        "from sklearn.preprocessing import PolynomialFeatures, StandardScaler\n",
        "from sklearn.svm import SVR\n",
        "from sklearn.tree import DecisionTreeRegressor\n",
        "import numpy as np\n",
        "from mpl_toolkits.mplot3d import Axes3D\n",
        "import os\n",
        "import pandas as pd\n",
        "import numpy as np\n",
        "import tensorflow as tf\n",
        "from tensorflow import keras\n",
        "from tensorflow.keras import layers"
      ],
      "metadata": {
        "id": "F9eDrTnz884F"
      },
      "execution_count": null,
      "outputs": []
    },
    {
      "cell_type": "code",
      "source": [
        "from google.colab import drive\n",
        "drive.mount('/content/drive')"
      ],
      "metadata": {
        "colab": {
          "base_uri": "https://localhost:8080/"
        },
        "id": "IPHCS-Nwb2Rx",
        "outputId": "e7bcc89e-a16f-469f-9633-694ff5f5c268"
      },
      "execution_count": null,
      "outputs": [
        {
          "output_type": "stream",
          "name": "stdout",
          "text": [
            "Mounted at /content/drive\n"
          ]
        }
      ]
    },
    {
      "cell_type": "code",
      "source": [
        "import pandas as pd\n",
        "\n",
        "# Provide the path to the CSV file\n",
        "file_path = '/content/drive/MyDrive/Data/data.csv'\n",
        "\n",
        "# Read the CSV file into a pandas DataFrame\n",
        "data = pd.read_csv(file_path)"
      ],
      "metadata": {
        "id": "rk-lQD8Eb2zR"
      },
      "execution_count": null,
      "outputs": []
    },
    {
      "cell_type": "markdown",
      "source": [
        "# **Implementation of Linear Regression**"
      ],
      "metadata": {
        "id": "dQAk1uZd86lh"
      }
    },
    {
      "cell_type": "code",
      "source": [
        "# Load the dataset\n",
        "data = pd.read_csv('data.csv')\n",
        "\n",
        "# Split the data into features (X) and targets (y)\n",
        "X = data[['cpu usage', 'memory usage', 'gpu usage']]\n",
        "y_temp = data[\"temperature\"]\n",
        "\n",
        "# Split the data into training and testing sets\n",
        "X_train, X_test, y_temp_train, y_temp_test = train_test_split(X, y_temp, test_size=0.2, random_state=0)\n",
        "\n",
        "# Create the linear regression model for temperature prediction\n",
        "linreg_temp = LinearRegression()\n",
        "linreg_temp.fit(X_train, y_temp_train)\n",
        "\n",
        "# Predict the target\n",
        "y_temp_pred = linreg_temp.predict(X_test)\n",
        "\n",
        "# Calculate the mean squared error and R-squared score\n",
        "mse_temp = mean_squared_error(y_temp_test, y_temp_pred)\n",
        "r2_temp = r2_score(y_temp_test, y_temp_pred)\n",
        "\n",
        "# Print the accuracy metrics\n",
        "print('Temperature MSE:', mse_temp)\n",
        "print('Temperature R2:', r2_temp)\n",
        "print('Temperature accuracy:', r2_temp * 100)\n"
      ],
      "metadata": {
        "id": "0bz58gmd9K-Y",
        "colab": {
          "base_uri": "https://localhost:8080/"
        },
        "outputId": "e7237c77-1d1e-4d81-b9f0-4063115aad1f"
      },
      "execution_count": null,
      "outputs": [
        {
          "output_type": "stream",
          "name": "stdout",
          "text": [
            "Temperature MSE: 48.734771430714964\n",
            "Temperature R2: 0.49775421758943617\n",
            "Temperature accuracy: 49.775421758943615\n"
          ]
        }
      ]
    },
    {
      "cell_type": "markdown",
      "source": [
        "# **Implementation of Polynomial Regression**"
      ],
      "metadata": {
        "id": "N2MWUnQPJ004"
      }
    },
    {
      "cell_type": "code",
      "source": [
        "# Load the dataset\n",
        "data = pd.read_csv('data.csv')\n",
        "\n",
        "# Split the data into features (X) and targets (y)\n",
        "X = data[['cpu usage', 'memory usage', 'gpu usage']]\n",
        "y_temp = data[\"temperature\"]\n",
        "\n",
        "# Split the data into training and testing sets\n",
        "X_train, X_test, y_temp_train, y_temp_test = train_test_split(X, y_temp, test_size=0.2, random_state=0)\n",
        "\n",
        "# Transform the features into polynomial features\n",
        "poly = PolynomialFeatures(degree=4)\n",
        "X_train_poly = poly.fit_transform(X_train)\n",
        "X_test_poly = poly.transform(X_test)\n",
        "\n",
        "# Create the polynomial regression model for temperature prediction\n",
        "polyreg_temp = LinearRegression()\n",
        "polyreg_temp.fit(X_train_poly, y_temp_train)\n",
        "\n",
        "# Predict the target\n",
        "y_temp_pred = polyreg_temp.predict(X_test_poly)\n",
        "\n",
        "# Calculate the mean squared error and R-squared score\n",
        "mse_temp = mean_squared_error(y_temp_test, y_temp_pred)\n",
        "r2_temp = r2_score(y_temp_test, y_temp_pred)\n",
        "\n",
        "# Print the accuracy metrics\n",
        "print('Temperature MSE:', mse_temp)\n",
        "print('Temperature R2:', r2_temp)\n",
        "print('Temperature accuracy:', r2_temp * 100)"
      ],
      "metadata": {
        "id": "SAOgwuApqhPy",
        "colab": {
          "base_uri": "https://localhost:8080/"
        },
        "outputId": "ab09fda9-8163-45ed-9426-4399bedb36ec"
      },
      "execution_count": null,
      "outputs": [
        {
          "output_type": "stream",
          "name": "stdout",
          "text": [
            "Temperature MSE: 16.257590289073192\n",
            "Temperature R2: 0.832454202304932\n",
            "Temperature accuracy: 83.2454202304932\n"
          ]
        }
      ]
    },
    {
      "cell_type": "markdown",
      "source": [
        "# **Implementation of Decision Tree Regression**"
      ],
      "metadata": {
        "id": "royODIHCTeI9"
      }
    },
    {
      "cell_type": "code",
      "source": [
        "# Load the dataset\n",
        "data = pd.read_csv('data.csv')\n",
        "\n",
        "# Split the data into features (X) and targets (y)\n",
        "X = data[['cpu usage', 'memory usage', 'gpu usage']]\n",
        "y_temp = data[\"temperature\"]\n",
        "# y_cpu_freq = data['cpu frequency']\n",
        "# y_gpu_freq = data['gpu frequency']\n",
        "\n",
        "# Split the data into training and testing sets\n",
        "X_train, X_test, y_temp_train, y_temp_test = train_test_split(X, y_temp, test_size=0.2, random_state=0)\n",
        "\n",
        "# Create the decision tree regression model for temperature prediction\n",
        "tree_temp = DecisionTreeRegressor()\n",
        "tree_temp.fit(X_train, y_temp_train)\n",
        "\n",
        "# Predict the target\n",
        "y_temp_pred = tree_temp.predict(X_test)\n",
        "\n",
        "# Calculate the mean squared error and R-squared score\n",
        "mse_temp = mean_squared_error(y_temp_test, y_temp_pred)\n",
        "r2_temp = r2_score(y_temp_test, y_temp_pred)\n",
        "\n",
        "# Print the accuracy metrics\n",
        "print('Temperature MSE:', mse_temp)\n",
        "print('Temperature R2:', r2_temp)\n",
        "print('Temperature accuracy:', r2_temp * 100)"
      ],
      "metadata": {
        "colab": {
          "base_uri": "https://localhost:8080/"
        },
        "id": "SUx-hy6EroiH",
        "outputId": "2713ab32-4d5f-4524-9738-ae938b85109c"
      },
      "execution_count": null,
      "outputs": [
        {
          "output_type": "stream",
          "name": "stdout",
          "text": [
            "Temperature MSE: 16.932303088952736\n",
            "Temperature R2: 0.8255008167009862\n",
            "Temperature accuracy: 82.55008167009862\n"
          ]
        }
      ]
    },
    {
      "cell_type": "markdown",
      "source": [
        "# **Implementation of Random Forest Regression**"
      ],
      "metadata": {
        "id": "NAuZb5TnUAKF"
      }
    },
    {
      "cell_type": "code",
      "source": [
        "# Load the dataset\n",
        "data = pd.read_csv('data.csv')\n",
        "\n",
        "# Split the data into features (X) and targets (y)\n",
        "X = data[['cpu usage', 'memory usage', 'gpu usage']]\n",
        "y_temp = data[\"temperature\"]\n",
        "\n",
        "# Split the data into training and testing sets\n",
        "X_train, X_test, y_temp_train, y_temp_test = train_test_split(X, y_temp, test_size=0.2, random_state=0)\n",
        "\n",
        "# Create the random forest regression model for temperature prediction\n",
        "rfr_temp = RandomForestRegressor(n_estimators=100, random_state=0)\n",
        "rfr_temp.fit(X_train, y_temp_train)\n",
        "\n",
        "# Predict the target\n",
        "y_temp_pred = rfr_temp.predict(X_test)\n",
        "\n",
        "# Calculate the mean squared error and R-squared score\n",
        "mse_temp = mean_squared_error(y_temp_test, y_temp_pred)\n",
        "r2_temp = r2_score(y_temp_test, y_temp_pred)\n",
        "\n",
        "# Print the accuracy metrics\n",
        "print('Temperature MSE:', mse_temp)\n",
        "print('Temperature R2:', r2_temp)\n",
        "print('Temperature accuracy:', r2_temp * 100)"
      ],
      "metadata": {
        "colab": {
          "base_uri": "https://localhost:8080/"
        },
        "id": "TSjQqlWer_KZ",
        "outputId": "e1ab7d96-57f3-49f8-bcb2-0115dbc25389"
      },
      "execution_count": null,
      "outputs": [
        {
          "output_type": "stream",
          "name": "stdout",
          "text": [
            "Temperature MSE: 9.059899180884722\n",
            "Temperature R2: 0.9080401523602624\n",
            "Temperature accuracy: 90.80401523602623\n"
          ]
        }
      ]
    },
    {
      "cell_type": "markdown",
      "source": [
        "# **Implementation of Support Vector Regression**"
      ],
      "metadata": {
        "id": "5QN0I7Glb84O"
      }
    },
    {
      "cell_type": "code",
      "source": [
        "# Load the dataset\n",
        "data = pd.read_csv('data.csv')\n",
        "\n",
        "# Split the data into features (X) and targets (y)\n",
        "X = data[['cpu usage', 'memory usage', 'gpu usage']]\n",
        "y_temp = data['temperature']\n",
        "\n",
        "# Split the data into training and testing sets\n",
        "X_train, X_test, y_temp_train, y_temp_test = train_test_split(X, y_temp, test_size=0.2, random_state=0)\n",
        "\n",
        "# Create the support vector machine regression model for temperature prediction\n",
        "svr_temp = SVR(kernel='linear')\n",
        "svr_temp.fit(X_train, y_temp_train)\n",
        "\n",
        "# Predict the target\n",
        "y_temp_pred = svr_temp.predict(X_test)\n",
        "\n",
        "# Calculate the mean squared error and R-squared score\n",
        "mse_temp = mean_squared_error(y_temp_test, y_temp_pred)\n",
        "r2_temp = r2_score(y_temp_test, y_temp_pred)\n",
        "\n",
        "# Print the accuracy metrics\n",
        "print('Temperature MSE:', mse_temp)\n",
        "print('Temperature R2:', r2_temp)\n",
        "print('Temperature accuracy:', r2_temp * 100)"
      ],
      "metadata": {
        "colab": {
          "base_uri": "https://localhost:8080/"
        },
        "id": "JMDTvciIsJti",
        "outputId": "fb4c65c7-152c-4fc2-d224-3eac2c812f51"
      },
      "execution_count": null,
      "outputs": [
        {
          "output_type": "stream",
          "name": "stdout",
          "text": [
            "Temperature MSE: 15.125649571805978\n",
            "Temperature R2: 0.8441196402355169\n",
            "Temperature accuracy: 84.41196402355169\n"
          ]
        }
      ]
    },
    {
      "cell_type": "code",
      "source": [
        "# Load the dataset\n",
        "data = pd.read_csv('data.csv')\n",
        "\n",
        "# Split the data into features (X) and target (y)\n",
        "X = data.iloc[:, :5].values  # First 5 columns as features\n",
        "y = data.iloc[:, 5].values   # 6th column as target\n",
        "# Split the data into training and testing sets\n",
        "X_train, X_test, y_train, y_test = train_test_split(X, y, test_size=0.2)\n",
        "# Scale the data\n",
        "sc_X = StandardScaler()\n",
        "sc_y = StandardScaler()\n",
        "X_train = sc_X.fit_transform(X_train)\n",
        "X_test = sc_X.transform(X_test)\n",
        "y_train = sc_y.fit_transform(y_train.reshape(-1, 1))\n",
        "y_test = sc_y.transform(y_test.reshape(-1, 1))\n",
        "# Create the SVR model\n",
        "regressor = SVR(kernel='rbf')\n",
        "# Train the model\n",
        "regressor.fit(X_train, y_train.ravel())\n",
        "# Predict the values\n",
        "y_pred = regressor.predict(X_test)\n",
        "# Calculate the error\n",
        "print(\"Mean Squared Error: \", mean_squared_error(y_test, y_pred))\n",
        "print(\"Mean Absolute Error: \", mean_absolute_error(y_test, y_pred))\n",
        "print(\"R2 Score: \", r2_score(y_test, y_pred))\n",
        "print(\"Accuracy: \", regressor.score(X_test, y_test) * 100)"
      ],
      "metadata": {
        "colab": {
          "base_uri": "https://localhost:8080/"
        },
        "id": "boTnqj4bwt0z",
        "outputId": "b2036ff5-7c0f-4e7d-d6e3-9cd7257b57f8"
      },
      "execution_count": null,
      "outputs": [
        {
          "output_type": "stream",
          "name": "stdout",
          "text": [
            "Mean Squared Error:  0.15096717346801397\n",
            "Mean Absolute Error:  0.3183646070049598\n",
            "R2 Score:  0.8505321869585775\n",
            "Accuracy:  85.05321869585775\n"
          ]
        }
      ]
    },
    {
      "cell_type": "markdown",
      "source": [
        "# **Deep Learning Model Regressor**"
      ],
      "metadata": {
        "id": "AowX2RSiedEh"
      }
    },
    {
      "cell_type": "code",
      "source": [
        "from tensorflow.keras.models import Sequential\n",
        "from tensorflow.keras.layers import Dense\n",
        "from tensorflow.keras.callbacks import Callback\n",
        "from tensorflow.keras.optimizers import Adam\n",
        "from tensorflow.keras.layers import LeakyReLU\n",
        "from tensorflow.keras import regularizers"
      ],
      "metadata": {
        "id": "W8tl12cQgw6j"
      },
      "execution_count": null,
      "outputs": []
    },
    {
      "cell_type": "code",
      "source": [
        "class ProgressPrintCallback(Callback):\n",
        "    def on_epoch_end(self, epoch, logs=None):\n",
        "        if epoch % 10 == 0:\n",
        "            print(\"Epoch:\", epoch)\n",
        "            y_pred = self.model.predict(X_test)\n",
        "            mse = mean_squared_error(y_test, y_pred)\n",
        "            r2 = r2_score(y_test, y_pred)\n",
        "            print(\"Mean Squared Error (MSE):\", mse)\n",
        "            print(\"R-squared Score:\", r2)\n",
        "            print(\"Accuracy:\", r2*100)\n",
        "            print()\n",
        "\n",
        "# Load the dataset\n",
        "data = pd.read_csv('data.csv')\n",
        "\n",
        "# Split the data into features (X) and target (y)\n",
        "X = data.iloc[:, :5].values  # First 5 columns as features\n",
        "y = data.iloc[:, 5].values   # 6th column as target\n",
        "\n",
        "# Split the data into training and testing sets\n",
        "X_train, X_test, y_train, y_test = train_test_split(X, y, test_size=0.2)\n",
        "\n",
        "# Scale the features using StandardScaler\n",
        "scaler = StandardScaler()\n",
        "X_train = scaler.fit_transform(X_train)\n",
        "X_test = scaler.transform(X_test)\n",
        "\n",
        "# Create the deep learning model\n",
        "model = Sequential()\n",
        "model.add(Dense(64, activation='relu', input_shape=(X.shape[1],)))\n",
        "model.add(Dense(64, activation='relu'))\n",
        "model.add(Dense(1))  # Output layer\n",
        "\n",
        "# Compile the model\n",
        "model.compile(optimizer='adam', loss='mean_squared_error')\n",
        "\n",
        "# Train the model with the callback\n",
        "model.fit(X_train, y_train, epochs=200, batch_size=32, verbose=0, callbacks=[ProgressPrintCallback()])\n",
        "\n",
        "# Make predictions on the test set\n",
        "y_pred = model.predict(X_test)\n",
        "\n",
        "# Calculate Mean Squared Error (MSE)\n",
        "mse = mean_squared_error(y_test, y_pred)\n",
        "print(\"Mean Squared Error (MSE):\", mse)\n",
        "\n",
        "# Calculate R-squared score\n",
        "r2 = r2_score(y_test, y_pred)\n",
        "print(\"R-squared Score:\", r2)\n",
        "print(\"Accuracy:\", r2*100)"
      ],
      "metadata": {
        "colab": {
          "base_uri": "https://localhost:8080/"
        },
        "id": "EhgPKEMUegSa",
        "outputId": "15250846-7425-4fc7-d228-b176d78618fa"
      },
      "execution_count": null,
      "outputs": [
        {
          "output_type": "stream",
          "name": "stdout",
          "text": [
            "Epoch: 0\n",
            "2016/2016 [==============================] - 3s 1ms/step\n",
            "Mean Squared Error (MSE): 15.917967982889143\n",
            "R-squared Score: 0.8376236622859708\n",
            "Accuracy: 83.76236622859709\n",
            "\n",
            "Epoch: 10\n",
            "2016/2016 [==============================] - 3s 1ms/step\n",
            "Mean Squared Error (MSE): 14.139180719021704\n",
            "R-squared Score: 0.8557687522741924\n",
            "Accuracy: 85.57687522741924\n",
            "\n",
            "Epoch: 20\n",
            "2016/2016 [==============================] - 3s 1ms/step\n",
            "Mean Squared Error (MSE): 13.131424202703387\n",
            "R-squared Score: 0.8660486958325107\n",
            "Accuracy: 86.60486958325106\n",
            "\n",
            "Epoch: 30\n",
            "2016/2016 [==============================] - 3s 1ms/step\n",
            "Mean Squared Error (MSE): 10.002131944713645\n",
            "R-squared Score: 0.8979700451552031\n",
            "Accuracy: 89.79700451552031\n",
            "\n",
            "Epoch: 40\n",
            "2016/2016 [==============================] - 3s 1ms/step\n",
            "Mean Squared Error (MSE): 9.698793874912589\n",
            "R-squared Score: 0.9010643424245834\n",
            "Accuracy: 90.10643424245835\n",
            "\n",
            "Epoch: 50\n",
            "2016/2016 [==============================] - 3s 1ms/step\n",
            "Mean Squared Error (MSE): 9.435759052250846\n",
            "R-squared Score: 0.9037475134952242\n",
            "Accuracy: 90.37475134952243\n",
            "\n",
            "Epoch: 60\n",
            "2016/2016 [==============================] - 3s 1ms/step\n",
            "Mean Squared Error (MSE): 9.884121141350883\n",
            "R-squared Score: 0.8991738522040258\n",
            "Accuracy: 89.91738522040258\n",
            "\n",
            "Epoch: 70\n",
            "2016/2016 [==============================] - 3s 1ms/step\n",
            "Mean Squared Error (MSE): 9.380515269842908\n",
            "R-squared Score: 0.904311045415788\n",
            "Accuracy: 90.4311045415788\n",
            "\n",
            "Epoch: 80\n",
            "2016/2016 [==============================] - 4s 2ms/step\n",
            "Mean Squared Error (MSE): 9.289233748012917\n",
            "R-squared Score: 0.9052421918555629\n",
            "Accuracy: 90.52421918555629\n",
            "\n",
            "Epoch: 90\n",
            "2016/2016 [==============================] - 3s 1ms/step\n",
            "Mean Squared Error (MSE): 8.900982636148054\n",
            "R-squared Score: 0.9092026718443267\n",
            "Accuracy: 90.92026718443267\n",
            "\n",
            "Epoch: 100\n",
            "2016/2016 [==============================] - 4s 2ms/step\n",
            "Mean Squared Error (MSE): 8.910164256333676\n",
            "R-squared Score: 0.90910901178284\n",
            "Accuracy: 90.91090117828399\n",
            "\n",
            "Epoch: 110\n",
            "2016/2016 [==============================] - 3s 1ms/step\n",
            "Mean Squared Error (MSE): 9.167577312952501\n",
            "R-squared Score: 0.906483187339766\n",
            "Accuracy: 90.6483187339766\n",
            "\n",
            "Epoch: 120\n",
            "2016/2016 [==============================] - 4s 2ms/step\n",
            "Mean Squared Error (MSE): 8.847124444406516\n",
            "R-squared Score: 0.9097520696029032\n",
            "Accuracy: 90.97520696029032\n",
            "\n",
            "Epoch: 130\n",
            "2016/2016 [==============================] - 2s 1ms/step\n",
            "Mean Squared Error (MSE): 8.97454448082941\n",
            "R-squared Score: 0.9084522806544659\n",
            "Accuracy: 90.84522806544659\n",
            "\n",
            "Epoch: 140\n",
            "2016/2016 [==============================] - 4s 2ms/step\n",
            "Mean Squared Error (MSE): 8.855476310421336\n",
            "R-squared Score: 0.9096668737149592\n",
            "Accuracy: 90.96668737149592\n",
            "\n",
            "Epoch: 150\n",
            "2016/2016 [==============================] - 3s 1ms/step\n",
            "Mean Squared Error (MSE): 9.210739846452745\n",
            "R-squared Score: 0.9060428940734544\n",
            "Accuracy: 90.60428940734543\n",
            "\n",
            "Epoch: 160\n",
            "2016/2016 [==============================] - 3s 1ms/step\n",
            "Mean Squared Error (MSE): 8.977170186779675\n",
            "R-squared Score: 0.9084254962987883\n",
            "Accuracy: 90.84254962987883\n",
            "\n",
            "Epoch: 170\n",
            "2016/2016 [==============================] - 3s 1ms/step\n",
            "Mean Squared Error (MSE): 8.709344721316594\n",
            "R-squared Score: 0.9111575358578072\n",
            "Accuracy: 91.11575358578072\n",
            "\n",
            "Epoch: 180\n",
            "2016/2016 [==============================] - 3s 1ms/step\n",
            "Mean Squared Error (MSE): 8.848466162499744\n",
            "R-squared Score: 0.9097383829771695\n",
            "Accuracy: 90.97383829771695\n",
            "\n",
            "Epoch: 190\n",
            "2016/2016 [==============================] - 3s 1ms/step\n",
            "Mean Squared Error (MSE): 9.174644127056112\n",
            "R-squared Score: 0.9064111000359918\n",
            "Accuracy: 90.64111000359918\n",
            "\n",
            "2016/2016 [==============================] - 3s 2ms/step\n",
            "Mean Squared Error (MSE): 8.885907757155609\n",
            "R-squared Score: 0.9093564479823932\n",
            "Accuracy: 90.93564479823932\n"
          ]
        }
      ]
    },
    {
      "cell_type": "markdown",
      "source": [
        "# **CNN Model Regressor**"
      ],
      "metadata": {
        "id": "YGiimuWcRlEi"
      }
    },
    {
      "cell_type": "code",
      "source": [
        "class ProgressPrintCallback(Callback):\n",
        "    def on_epoch_end(self, epoch, logs=None):\n",
        "        if epoch % 10 == 0:\n",
        "            print(\"Epoch:\", epoch)\n",
        "            y_pred = self.model.predict(X_test)\n",
        "            mse = mean_squared_error(y_test, y_pred)\n",
        "            r2 = r2_score(y_test, y_pred)\n",
        "            print(\"Mean Squared Error (MSE):\", mse)\n",
        "            print(\"R-squared Score:\", r2)\n",
        "            print(\"Accuracy:\", r2*100)\n",
        "            print()\n",
        "\n",
        "# Load the dataset\n",
        "data = pd.read_csv('data.csv')\n",
        "\n",
        "# Split the data into features (X) and target (y)\n",
        "X = data.iloc[:, :5].values  # First 5 columns as features\n",
        "y = data.iloc[:, 5].values   # 6th column as target\n",
        "\n",
        "# Split the data into training and testing sets\n",
        "X_train, X_test, y_train, y_test = train_test_split(X, y, test_size=0.2)\n",
        "\n",
        "# Scale the features using StandardScaler\n",
        "scaler = StandardScaler()\n",
        "X_train = scaler.fit_transform(X_train)\n",
        "X_test = scaler.transform(X_test)\n",
        "\n",
        "# Create CNN regression model using TensorFlow\n",
        "model = keras.Sequential([\n",
        "    layers.Conv1D(32, kernel_size=3, activation='relu', input_shape=(X.shape[1], 1)),\n",
        "    layers.Conv1D(64, kernel_size=3, activation='relu'),\n",
        "    layers.Flatten(),\n",
        "    layers.Dense(64, activation='relu'),\n",
        "    layers.Dense(1)  # Output layer with single node for regression\n",
        "])\n",
        "\n",
        "# Compile the model\n",
        "model.compile(optimizer='adam', loss='mean_squared_error')\n",
        "\n",
        "# Train the model with the callback\n",
        "model.fit(X_train, y_train, epochs=200, batch_size=32, verbose=0, callbacks=[ProgressPrintCallback()])\n",
        "\n",
        "# Make predictions on the test set\n",
        "y_pred = model.predict(X_test)\n",
        "\n",
        "# Calculate Mean Squared Error (MSE)\n",
        "mse = mean_squared_error(y_test, y_pred)\n",
        "print(\"Mean Squared Error (MSE):\", mse)\n",
        "\n",
        "# Calculate R-squared score\n",
        "r2 = r2_score(y_test, y_pred)\n",
        "print(\"R-squared Score:\", r2)\n",
        "print(\"Accuracy:\", r2*100)"
      ],
      "metadata": {
        "colab": {
          "base_uri": "https://localhost:8080/"
        },
        "id": "i1SkSMX9RnYH",
        "outputId": "36bba5c1-6043-4325-d2b0-4169cae450c2"
      },
      "execution_count": null,
      "outputs": [
        {
          "output_type": "stream",
          "name": "stdout",
          "text": [
            "Epoch: 0\n",
            "2016/2016 [==============================] - 3s 1ms/step\n",
            "Mean Squared Error (MSE): 16.1706258146475\n",
            "R-squared Score: 0.8357013205159152\n",
            "Accuracy: 83.57013205159151\n",
            "\n",
            "Epoch: 10\n",
            "2016/2016 [==============================] - 3s 1ms/step\n",
            "Mean Squared Error (MSE): 12.59565571185254\n",
            "R-squared Score: 0.8720241489467269\n",
            "Accuracy: 87.20241489467269\n",
            "\n",
            "Epoch: 20\n",
            "2016/2016 [==============================] - 3s 1ms/step\n",
            "Mean Squared Error (MSE): 11.132922286219886\n",
            "R-squared Score: 0.8868859837961233\n",
            "Accuracy: 88.68859837961233\n",
            "\n",
            "Epoch: 30\n",
            "2016/2016 [==============================] - 3s 1ms/step\n",
            "Mean Squared Error (MSE): 10.641546531287526\n",
            "R-squared Score: 0.8918785170840281\n",
            "Accuracy: 89.1878517084028\n",
            "\n",
            "Epoch: 40\n",
            "2016/2016 [==============================] - 3s 1ms/step\n",
            "Mean Squared Error (MSE): 9.967972407420373\n",
            "R-squared Score: 0.8987222435021968\n",
            "Accuracy: 89.87222435021968\n",
            "\n",
            "Epoch: 50\n",
            "2016/2016 [==============================] - 3s 2ms/step\n",
            "Mean Squared Error (MSE): 9.9292834750515\n",
            "R-squared Score: 0.8991153353077778\n",
            "Accuracy: 89.91153353077777\n",
            "\n",
            "Epoch: 60\n",
            "2016/2016 [==============================] - 4s 2ms/step\n",
            "Mean Squared Error (MSE): 9.268281523492927\n",
            "R-squared Score: 0.9058313244737075\n",
            "Accuracy: 90.58313244737076\n",
            "\n",
            "Epoch: 70\n",
            "2016/2016 [==============================] - 4s 2ms/step\n",
            "Mean Squared Error (MSE): 9.027701204378277\n",
            "R-squared Score: 0.9082756967072542\n",
            "Accuracy: 90.82756967072541\n",
            "\n",
            "Epoch: 80\n",
            "2016/2016 [==============================] - 3s 1ms/step\n",
            "Mean Squared Error (MSE): 8.865703784305055\n",
            "R-squared Score: 0.9099216417994812\n",
            "Accuracy: 90.99216417994812\n",
            "\n",
            "Epoch: 90\n",
            "2016/2016 [==============================] - 3s 1ms/step\n",
            "Mean Squared Error (MSE): 9.165947118290353\n",
            "R-squared Score: 0.9068710744396824\n",
            "Accuracy: 90.68710744396824\n",
            "\n",
            "Epoch: 100\n",
            "2016/2016 [==============================] - 3s 1ms/step\n",
            "Mean Squared Error (MSE): 8.762355604816912\n",
            "R-squared Score: 0.9109716920332579\n",
            "Accuracy: 91.09716920332579\n",
            "\n",
            "Epoch: 110\n",
            "2016/2016 [==============================] - 3s 2ms/step\n",
            "Mean Squared Error (MSE): 8.822173298435299\n",
            "R-squared Score: 0.9103639253219422\n",
            "Accuracy: 91.03639253219423\n",
            "\n",
            "Epoch: 120\n",
            "2016/2016 [==============================] - 3s 1ms/step\n",
            "Mean Squared Error (MSE): 8.678531997988962\n",
            "R-squared Score: 0.911823366425411\n",
            "Accuracy: 91.18233664254109\n",
            "\n",
            "Epoch: 130\n",
            "2016/2016 [==============================] - 3s 1ms/step\n",
            "Mean Squared Error (MSE): 8.77232758749141\n",
            "R-squared Score: 0.9108703735311765\n",
            "Accuracy: 91.08703735311765\n",
            "\n",
            "Epoch: 140\n",
            "2016/2016 [==============================] - 3s 1ms/step\n",
            "Mean Squared Error (MSE): 8.752066711529883\n",
            "R-squared Score: 0.9110762304475275\n",
            "Accuracy: 91.10762304475276\n",
            "\n",
            "Epoch: 150\n",
            "2016/2016 [==============================] - 3s 1ms/step\n",
            "Mean Squared Error (MSE): 8.88992038017258\n",
            "R-squared Score: 0.909675593516116\n",
            "Accuracy: 90.9675593516116\n",
            "\n",
            "Epoch: 160\n",
            "2016/2016 [==============================] - 4s 2ms/step\n",
            "Mean Squared Error (MSE): 8.571276474842396\n",
            "R-squared Score: 0.9129131165082058\n",
            "Accuracy: 91.29131165082059\n",
            "\n",
            "Epoch: 170\n",
            "2016/2016 [==============================] - 3s 1ms/step\n",
            "Mean Squared Error (MSE): 8.674727662982843\n",
            "R-squared Score: 0.911862019673899\n",
            "Accuracy: 91.1862019673899\n",
            "\n",
            "Epoch: 180\n",
            "2016/2016 [==============================] - 3s 1ms/step\n",
            "Mean Squared Error (MSE): 8.67030054696401\n",
            "R-squared Score: 0.9119070005747099\n",
            "Accuracy: 91.19070005747099\n",
            "\n",
            "Epoch: 190\n",
            "2016/2016 [==============================] - 3s 1ms/step\n",
            "Mean Squared Error (MSE): 8.723618264234728\n",
            "R-squared Score: 0.911365275681617\n",
            "Accuracy: 91.1365275681617\n",
            "\n",
            "2016/2016 [==============================] - 3s 1ms/step\n",
            "Mean Squared Error (MSE): 8.84876889017265\n",
            "R-squared Score: 0.9100937056871161\n",
            "Accuracy: 91.00937056871162\n"
          ]
        }
      ]
    }
  ]
}